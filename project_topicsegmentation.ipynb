{
  "nbformat": 4,
  "nbformat_minor": 0,
  "metadata": {
    "colab": {
      "provenance": [],
      "machine_shape": "hm"
    },
    "kernelspec": {
      "name": "python3",
      "display_name": "Python 3"
    }
  },
  "cells": [
    {
      "cell_type": "markdown",
      "metadata": {
        "id": "SwvOgGICU4_-"
      },
      "source": [
        "Pre-Processing"
      ]
    },
    {
      "cell_type": "code",
      "metadata": {
        "id": "vwY8vZSRL03T"
      },
      "source": [
        "from __future__ import division\n",
        "import gensim\n",
        "import glob\n",
        "from sklearn.decomposition import PCA\n",
        "import gensim.models.word2vec\n",
        "from collections import Counter\n",
        "from sklearn.metrics.pairwise import cosine_similarity\n",
        "import itertools\n",
        "import nltk\n",
        "from nltk.tokenize import sent_tokenize\n",
        "from nltk.tokenize import word_tokenize\n",
        "import re\n",
        "from nltk.corpus import stopwords\n",
        "from nltk.stem import SnowballStemmer\n",
        "from string import punctuation\n",
        "import csv"
      ],
      "execution_count": null,
      "outputs": []
    },
    {
      "cell_type": "code",
      "metadata": {
        "id": "B-idgp_JMIL5",
        "colab": {
          "base_uri": "https://localhost:8080/",
          "height": 67
        },
        "outputId": "0a90924b-074f-49c1-f776-3123b18a2fea"
      },
      "source": [
        "import nltk\n",
        "nltk.download('stopwords')"
      ],
      "execution_count": null,
      "outputs": [
        {
          "output_type": "stream",
          "text": [
            "[nltk_data] Downloading package stopwords to /root/nltk_data...\n",
            "[nltk_data]   Package stopwords is already up-to-date!\n"
          ],
          "name": "stdout"
        },
        {
          "output_type": "execute_result",
          "data": {
            "text/plain": [
              "True"
            ]
          },
          "metadata": {
            "tags": []
          },
          "execution_count": 73
        }
      ]
    },
    {
      "cell_type": "code",
      "metadata": {
        "id": "58FSZtecMLn5",
        "colab": {
          "base_uri": "https://localhost:8080/",
          "height": 34
        },
        "outputId": "ffa77a76-13a9-4fab-c9a1-4b8aaf87559a"
      },
      "source": [
        "f1 = open(\"input.txt\",\"r\")\n",
        "fname = f1.read()\n",
        "print(fname)"
      ],
      "execution_count": null,
      "outputs": [
        {
          "output_type": "stream",
          "text": [
            "TestFile.txt\n"
          ],
          "name": "stdout"
        }
      ]
    },
    {
      "cell_type": "code",
      "metadata": {
        "id": "5ovoG_kqMO2N",
        "colab": {
          "base_uri": "https://localhost:8080/",
          "height": 541
        },
        "outputId": "87c1c09d-c510-4f1e-d965-cb3bc18ea8c2"
      },
      "source": [
        "\n",
        "def Pre_process(text,i ,remove_stopwords=True, stem_words=True):\n",
        "    # Clean the text, with the option to remove stopwords and to stem words.\n",
        "\n",
        "    # Convert words to lower case and split them\n",
        "    text = text.split()\n",
        "    # Optionally, remove stop words\n",
        "    if remove_stopwords:\n",
        "        stops = set(stopwords.words(\"english\"))\n",
        "        text = [w for w in text if not w in stops]\n",
        "\n",
        "    text = \" \".join(text)\n",
        "    if i==0:\n",
        "      print(\"------After removing stop words-----\")\n",
        "      print(text)\n",
        "    # Clean the text\n",
        "    text = re.sub(r\"[^A-Za-z0-9^,.!\\/'+-=]\", \" \", text)\n",
        "    text = re.sub(r\"what's\", \"what is \", text)\n",
        "    text = re.sub(r\"\\'s\", \" \", text)\n",
        "    text = re.sub(r\"\\'ve\", \" have \", text)\n",
        "    text = re.sub(r\"can't\", \"cannot \", text)\n",
        "    text = re.sub(r\"n't\", \" not \", text)\n",
        "    text = re.sub(r\"i'm\", \"i am \", text)\n",
        "    text = re.sub(r\"\\'re\", \" are \", text)\n",
        "    text = re.sub(r\"\\'d\", \" would \", text)\n",
        "    text = re.sub(r\"\\'ll\", \" will \", text)\n",
        "    text = re.sub(r\",\", \"\", text)\n",
        "#    text = re.sub(r\"\\.\", \" \", text)\n",
        "    text = re.sub(r\"!\", \"\", text)\n",
        "    text = re.sub(r\"\\;\", \"\", text)\n",
        "    text = re.sub(r\"\\[\", \"\", text)\n",
        "    text = re.sub(r\"\\.\", \"\", text)\n",
        "    text = re.sub(r\"\\/\", \"\", text)\n",
        "    text = re.sub(r\"\\]\", \"\", text)\n",
        "    text = re.sub(r\"\\^\", \"\", text)\n",
        "    text = re.sub(r\"\\+\", \"\", text)\n",
        "\n",
        "    text = re.sub(r\"\\-\", \"\", text)\n",
        "    text = re.sub(r\"\\=\", \"\", text)\n",
        "    text = re.sub(r\"'\", \"\", text)\n",
        "    text = re.sub(r\"(\\d+)(k)\", r\"\\g<1>000\", text)\n",
        "    text = re.sub(r\":\", \" : \", text)\n",
        "    text = re.sub(r\" e g \", \" eg \", text)\n",
        "    text = re.sub(r\" b g \", \" bg \", text)\n",
        "    text = re.sub(r\" u s \", \" american \", text)\n",
        "    text = re.sub(r\"\\0s\", \"0\", text)\n",
        "    text = re.sub(r\" 9 11 \", \"911\", text)\n",
        "    text = re.sub(r\"e - mail\", \"email\", text)\n",
        "    text = re.sub(r\"\\s{2,}\", \" \", text)\n",
        "    text = re.sub(r\"\\d{1,5}\",\" \" ,text)\n",
        "    if i==0:\n",
        "      print(\"------After removing Special characters-----\")\n",
        "      print(text)\n",
        "    # Optionally, shorten words to their stems\n",
        "    if stem_words:\n",
        "        text = text.split()\n",
        "        stemmer = SnowballStemmer('english')\n",
        "        stemmed_words = [stemmer.stem(word) for word in text]\n",
        "        text = \" \".join(stemmed_words)\n",
        "    if i==0:\n",
        "      print(\"-----After stemming------\")\n",
        "      print(text)\n",
        "\n",
        "    # Return a list of words\n",
        "    return(text)\n",
        "\n",
        "\n",
        "\n",
        "\n",
        "\n",
        "f2 = open(fname,\"r\")\n",
        "lines = f2.read()\n",
        "print(\"----The file is here----\")\n",
        "print()\n",
        "print(lines)\n",
        "print()\n",
        "lines = lines.split('.')\n",
        "print(\"-----After sentence Tokenization------\")\n",
        "print()\n",
        "print(lines)\n",
        "\n",
        "# Do pre-processing for each line\n",
        "i=0\n",
        "sent_list = []\n",
        "org_sent_list = []\n",
        "for line in lines:\n",
        "  if len(line)== 0:\n",
        "    continue\n",
        "  org_sent_list.append(line)\n",
        "  line = Pre_process(line,i)\n",
        "  i=i+1\n",
        "  sent_list.append(line)\n",
        "#print(sent_list)\n"
      ],
      "execution_count": null,
      "outputs": [
        {
          "output_type": "stream",
          "text": [
            "----The file is here----\n",
            "\n",
            "The usual incubation period (the time between infection and symptom onset) ranges from one to 14 days, and is most commonly five days..\n",
            "Some infected people have no symptoms, known as asymptomatic or presymptomatic carriers; transmission from such a carrier is considered possible. COVID-19 can be provisionally diagnosed on the basis of symptoms and confirmed using reverse transcription polymerase chain reaction (RT-PCR) testing of infected secretions or CT imaging of the chest. The standard test for current infection with SARS-CoV-2 uses RNA testing of respiratory secretions collected using a nasopharyngeal swab, though it is possible to test other samples. This test uses real-time rRT-PCR which detects the presence of viral RNA fragments. Testing is often performed in automated, high-throughput centralized medical laboratories by medical laboratory scientists. Characteristic imaging features on chest radiographs and computed tomography (CT) of people who are symptomatic include asymmetric peripheral ground-glass opacities without pleural effusions.\n",
            "The Italian Radiological Society is compiling an international online database of imaging findings for confirmed cases. Due to overlap with other infections such as adenovirus, imaging without confirmation by rRT-PCR is of limited specificity in identifying COVID-19. A large study in China compared chest CT results to PCR and demonstrated that though imaging is less specific for the infection, it is faster and more sensitive. There were four men and five women reported to be infected on November, but none of them were \"patient zero\". On 24 December, Wuhan Central Hospital sent a bronchoalveolar lavage fluid (BAL) sample from an unresolved clinical case to sequencing company Vision Medicals. On 27 and 28 December, Vision Medicals informed the Wuhan Central Hospital and the Chinese CDC of the results of the test, showing a new coronavirus. A pneumonia cluster of unknown cause was observed on 26 December and treated by the doctor Zhang Jixian in Hubei Provincial Hospital, who informed the Wuhan Jianghan CDC on 27 December.\n",
            "On 30 December, a test report addressed to Wuhan Central Hospital, from company CapitalBio Medlab, stated an erroneous positive result for SARS, causing a group of doctors at Wuhan Central Hospital to alert their colleagues and relevant hospital authorities of the result. That evening, the Wuhan Municipal Health Commission issued a notice to various medical institutions on \"the treatment of pneumonia of unknown cause\". Eight of these doctors, including Li Wenliang (punished on 3 January),[503] were later admonished by the police for spreading false rumours, and another, Ai Fen, was reprimanded by her superiors for raising the alarm.\n",
            "Symptoms of COVID-19 can be relatively non-specific; the two most common symptoms are fever (88 percent) and dry cough (68 percent).\n",
            "Less common symptoms include fatigue, respiratory sputum production (phlegm), loss of the sense of smell, loss of taste, shortness of breath, muscle and joint pain, sore throat, headache, chills, vomiting, coughing out blood, diarrhea, and rash. Among those who develop symptoms, approximately one in five may become more seriously ill and have difficulty breathing. Emergency symptoms include difficulty breathing, persistent chest pain or pressure, sudden confusion, difficulty waking, and bluish face or lips; immediate medical attention is advised if these symptoms are present.\n",
            "Starting from December, the number of coronavirus cases in Hubei gradually increased, reaching 60 by 20 December.\n",
            "Further development of the disease can lead to complications including pneumonia, acute respiratory distress syndrome, sepsis, septic shock, and kidney failure. There are several theories about where the very first case (the so-called patient zero) originated.\n",
            "According to an unpublicized report from the Chinese government, the first case can be traced back to 17 November 2019; the person was a 55-year old citizen in Hubei province. According to official Chinese sources, these were mostly linked to the Huanan Seafood Wholesale Market, which also sold live animals. In May 2020, George Gao, the director of the Chinese Center for Disease Control and Prevention, said animal samples collected from the seafood market had tested negative for the virus, indicating that the market was the site of an early superspreading event, but it was not the site of the initial outbreak. More drastic actions aimed at containing the outbreak were taken in China once the severity of the outbreak became apparent, such as quarantining entire cities and imposing strict travel bans. A number of laboratories and companies have developed serological tests, which detect antibodies produced by the body in response to infection. Several have been evaluated by Public Health England and approved for use in the UK.. Those who may already have the infection have been advised to wear a surgical mask in public. Physical distancing measures are also recommended to prevent transmission..\n",
            "Health care providers taking care of someone who may be infected are recommended to use standard precautions, contact precautions, and eye protection. The Wuhan Municipal Health Commission made the first public announcement of a pneumonia outbreak of unknown cause on 31 December, confirming 27 cases. Strategies in the control of an outbreak are screening, containment (or suppression) and mitigation. Screening is done with a device such as a thermometer to detect the elevated body temperature associated with fevers caused by the Coronavirus..\n",
            "Containment is undertaken in the early stages of the outbreak and aims to trace and isolate those infected as well as introduce other measures to stop the disease from spreading. When it is no longer possible to contain the disease, efforts then move to the mitigation stage.\n",
            "Suppression requires more extreme measures so as to reverse the pandemic by reducing the basic reproduction number to less than 1. Part of managing an infectious disease outbreak is trying to delay and decrease the epidemic peak, known as flattening the epidemic curve.\n",
            "This decreases the risk of health services being overwhelmed and provides more time for vaccines and treatments to be developed. Non-pharmaceutical interventions that may manage the outbreak include personal preventive measures such as hand hygiene, wearing face masks, and self-quarantine; community measures aimed at physical distancing such as closing schools and cancelling mass gathering events; community engagement to encourage acceptance and participation in such interventions; as well as environmental measures such surface cleaning..\n",
            "Other countries also adopted a variety of measures aimed at limiting the spread of the virus. South Korea introduced the mass screening and localised quarantines and issued alerts on the movements of infected individuals. Singapore provided financial support for those infected who quarantined themselves and imposed large fines for those who failed to do so..\n",
            "Taiwan increased face mask production and penalised hoarding of medical supplies. Simulations for Great Britain and the United States show that mitigation (slowing but not stopping epidemic spread) and suppression (reversing epidemic growth) have major challenges. Optimal mitigation policies might reduce peak healthcare demand by two-thirds and deaths by half, but still result in hundreds of thousands of deaths and overwhelmed health systems..\n",
            "Suppression can be preferred but needs to be maintained for as long as the virus is circulating in the human population (or until a vaccine becomes available), as transmission otherwise quickly rebounds when measures are relaxed. Long-term intervention to suppress the pandemic has considerable social and economic costs.\n",
            "There is no COVID-19 vaccine, though many organisations are working to develop one. Misconceptions are circulating about how to prevent infection; for example, rinsing the nose and gargling with mouthwash are not effective. Many governments have restricted or advised against all non-essential travel to and from countries and areas affected by the outbreak..\n",
            "The virus has already spread within communities in large parts of the world, with many not knowing where or how they were infected. Strategies for preventing transmission of the disease include maintaining overall good personal hygiene, washing hands, avoiding touching the eyes, nose, or mouth with unwashed hands, and coughing or sneezing into a tissue, and putting the tissue directly into a waste container.\n",
            "\n",
            "-----After sentence Tokenization------\n",
            "\n",
            "['The usual incubation period (the time between infection and symptom onset) ranges from one to 14 days, and is most commonly five days', '', '\\nSome infected people have no symptoms, known as asymptomatic or presymptomatic carriers; transmission from such a carrier is considered possible', ' COVID-19 can be provisionally diagnosed on the basis of symptoms and confirmed using reverse transcription polymerase chain reaction (RT-PCR) testing of infected secretions or CT imaging of the chest', ' The standard test for current infection with SARS-CoV-2 uses RNA testing of respiratory secretions collected using a nasopharyngeal swab, though it is possible to test other samples', ' This test uses real-time rRT-PCR which detects the presence of viral RNA fragments', ' Testing is often performed in automated, high-throughput centralized medical laboratories by medical laboratory scientists', ' Characteristic imaging features on chest radiographs and computed tomography (CT) of people who are symptomatic include asymmetric peripheral ground-glass opacities without pleural effusions', '\\nThe Italian Radiological Society is compiling an international online database of imaging findings for confirmed cases', ' Due to overlap with other infections such as adenovirus, imaging without confirmation by rRT-PCR is of limited specificity in identifying COVID-19', ' A large study in China compared chest CT results to PCR and demonstrated that though imaging is less specific for the infection, it is faster and more sensitive', ' There were four men and five women reported to be infected on November, but none of them were \"patient zero\"', ' On 24 December, Wuhan Central Hospital sent a bronchoalveolar lavage fluid (BAL) sample from an unresolved clinical case to sequencing company Vision Medicals', ' On 27 and 28 December, Vision Medicals informed the Wuhan Central Hospital and the Chinese CDC of the results of the test, showing a new coronavirus', ' A pneumonia cluster of unknown cause was observed on 26 December and treated by the doctor Zhang Jixian in Hubei Provincial Hospital, who informed the Wuhan Jianghan CDC on 27 December', '\\nOn 30 December, a test report addressed to Wuhan Central Hospital, from company CapitalBio Medlab, stated an erroneous positive result for SARS, causing a group of doctors at Wuhan Central Hospital to alert their colleagues and relevant hospital authorities of the result', ' That evening, the Wuhan Municipal Health Commission issued a notice to various medical institutions on \"the treatment of pneumonia of unknown cause\"', ' Eight of these doctors, including Li Wenliang (punished on 3 January),[503] were later admonished by the police for spreading false rumours, and another, Ai Fen, was reprimanded by her superiors for raising the alarm', '\\nSymptoms of COVID-19 can be relatively non-specific; the two most common symptoms are fever (88 percent) and dry cough (68 percent)', '\\nLess common symptoms include fatigue, respiratory sputum production (phlegm), loss of the sense of smell, loss of taste, shortness of breath, muscle and joint pain, sore throat, headache, chills, vomiting, coughing out blood, diarrhea, and rash', ' Among those who develop symptoms, approximately one in five may become more seriously ill and have difficulty breathing', ' Emergency symptoms include difficulty breathing, persistent chest pain or pressure, sudden confusion, difficulty waking, and bluish face or lips; immediate medical attention is advised if these symptoms are present', '\\nStarting from December, the number of coronavirus cases in Hubei gradually increased, reaching 60 by 20 December', '\\nFurther development of the disease can lead to complications including pneumonia, acute respiratory distress syndrome, sepsis, septic shock, and kidney failure', ' There are several theories about where the very first case (the so-called patient zero) originated', '\\nAccording to an unpublicized report from the Chinese government, the first case can be traced back to 17 November 2019; the person was a 55-year old citizen in Hubei province', ' According to official Chinese sources, these were mostly linked to the Huanan Seafood Wholesale Market, which also sold live animals', ' In May 2020, George Gao, the director of the Chinese Center for Disease Control and Prevention, said animal samples collected from the seafood market had tested negative for the virus, indicating that the market was the site of an early superspreading event, but it was not the site of the initial outbreak', ' More drastic actions aimed at containing the outbreak were taken in China once the severity of the outbreak became apparent, such as quarantining entire cities and imposing strict travel bans', ' A number of laboratories and companies have developed serological tests, which detect antibodies produced by the body in response to infection', ' Several have been evaluated by Public Health England and approved for use in the UK', '', ' Those who may already have the infection have been advised to wear a surgical mask in public', ' Physical distancing measures are also recommended to prevent transmission', '', '\\nHealth care providers taking care of someone who may be infected are recommended to use standard precautions, contact precautions, and eye protection', ' The Wuhan Municipal Health Commission made the first public announcement of a pneumonia outbreak of unknown cause on 31 December, confirming 27 cases', ' Strategies in the control of an outbreak are screening, containment (or suppression) and mitigation', ' Screening is done with a device such as a thermometer to detect the elevated body temperature associated with fevers caused by the Coronavirus', '', '\\nContainment is undertaken in the early stages of the outbreak and aims to trace and isolate those infected as well as introduce other measures to stop the disease from spreading', ' When it is no longer possible to contain the disease, efforts then move to the mitigation stage', '\\nSuppression requires more extreme measures so as to reverse the pandemic by reducing the basic reproduction number to less than 1', ' Part of managing an infectious disease outbreak is trying to delay and decrease the epidemic peak, known as flattening the epidemic curve', '\\nThis decreases the risk of health services being overwhelmed and provides more time for vaccines and treatments to be developed', ' Non-pharmaceutical interventions that may manage the outbreak include personal preventive measures such as hand hygiene, wearing face masks, and self-quarantine; community measures aimed at physical distancing such as closing schools and cancelling mass gathering events; community engagement to encourage acceptance and participation in such interventions; as well as environmental measures such surface cleaning', '', '\\nOther countries also adopted a variety of measures aimed at limiting the spread of the virus', ' South Korea introduced the mass screening and localised quarantines and issued alerts on the movements of infected individuals', ' Singapore provided financial support for those infected who quarantined themselves and imposed large fines for those who failed to do so', '', '\\nTaiwan increased face mask production and penalised hoarding of medical supplies', ' Simulations for Great Britain and the United States show that mitigation (slowing but not stopping epidemic spread) and suppression (reversing epidemic growth) have major challenges', ' Optimal mitigation policies might reduce peak healthcare demand by two-thirds and deaths by half, but still result in hundreds of thousands of deaths and overwhelmed health systems', '', '\\nSuppression can be preferred but needs to be maintained for as long as the virus is circulating in the human population (or until a vaccine becomes available), as transmission otherwise quickly rebounds when measures are relaxed', ' Long-term intervention to suppress the pandemic has considerable social and economic costs', '\\nThere is no COVID-19 vaccine, though many organisations are working to develop one', ' Misconceptions are circulating about how to prevent infection; for example, rinsing the nose and gargling with mouthwash are not effective', ' Many governments have restricted or advised against all non-essential travel to and from countries and areas affected by the outbreak', '', '\\nThe virus has already spread within communities in large parts of the world, with many not knowing where or how they were infected', ' Strategies for preventing transmission of the disease include maintaining overall good personal hygiene, washing hands, avoiding touching the eyes, nose, or mouth with unwashed hands, and coughing or sneezing into a tissue, and putting the tissue directly into a waste container', '']\n",
            "------After removing stop words-----\n",
            "The usual incubation period (the time infection symptom onset) ranges one 14 days, commonly five days\n",
            "------After removing Special characters-----\n",
            "The usual incubation period the time infection symptom onset ranges one   days commonly five days\n",
            "-----After stemming------\n",
            "the usual incub period the time infect symptom onset rang one day common five day\n"
          ],
          "name": "stdout"
        }
      ]
    },
    {
      "cell_type": "code",
      "metadata": {
        "id": "DHdYeXerMZFp"
      },
      "source": [
        "with open('output.csv','w', newline='') as writefile:\n",
        "     writer = csv.writer(writefile)\n",
        "     feild = ['Sentences']\n",
        "     writer.writerow(feild)\n",
        "     for sent in sent_list:\n",
        "       feild = [sent]\n",
        "       writer.writerow(feild)\n",
        "writefile.close()\n",
        "\n",
        "\n",
        "with open('org_sent.csv','w', newline='') as writefile:\n",
        "     writer = csv.writer(writefile)\n",
        "     feild = ['Sentences']\n",
        "     writer.writerow(feild)\n",
        "     for sent in org_sent_list:\n",
        "       feild = [sent]\n",
        "       writer.writerow(feild)\n",
        "writefile.close()\n",
        "\n",
        "\n",
        "\n",
        "\n"
      ],
      "execution_count": null,
      "outputs": []
    },
    {
      "cell_type": "markdown",
      "metadata": {
        "id": "UDfehP7qaCbU"
      },
      "source": [
        "Reading the sentences from csv file"
      ]
    },
    {
      "cell_type": "code",
      "metadata": {
        "id": "zTBfC8w05c5i",
        "colab": {
          "base_uri": "https://localhost:8080/",
          "height": 70
        },
        "outputId": "e94a2522-7d34-400f-a2ca-d5058a31deb5"
      },
      "source": [
        "import csv\n",
        "\n",
        "f = open('output.csv')\n",
        "csv_f = csv.reader(f)\n",
        "\n",
        "sent_list = []\n",
        "\n",
        "for row in csv_f:\n",
        "  sent_list.append(row[0])\n",
        "\n",
        "print(sent_list)\n",
        "print(len(sent_list))"
      ],
      "execution_count": null,
      "outputs": [
        {
          "output_type": "stream",
          "text": [
            "['Sentences', 'coronavirus diseas covid infecti diseas caus sever acut respiratori syndrom coronavirus sarscov', 'it first identifi decemb wuhan china result ongo pandem', 'the first case may trace back novemb', 'as june', 'million case report across countri territori result death', 'more', 'million peopl recov', 'fever common symptom high variabl sever present older immunocompromis critic ill peopl fever', 'other common symptom includ cough loss appetit fatigu short breath sputum product muscl joint pain', 'symptom nausea vomit diarrhoea observ vari percentag', 'less common symptom includ sneez runni nose sore throat skin lesion', 'some case china initi present chest tight palpit', 'a decreas sens smell disturb tast may occur', 'loss smell present symptom confirm case south korea', 'as common infect delay moment person first infect time develop symptom', 'this call incub period', 'covid spread primarili peopl close contact one person inhal small droplet produc infect person symptomat not cough sneez talk sing', 'the who recommend metr ft social distanc u', 's', 'cdc recommend metr ft', 'peopl transmit virus without show symptom unclear often happen', 'one estim number infect asymptomat', 'peopl infecti show symptom even mild nonspecif symptom may infecti two day symptom appear', 'the who publish sever test protocol diseas', 'the standard method test realtim revers transcript polymeras chain reaction rrtpcr', 'the test typic done respiratori sampl obtain nasopharyng swab howev nasal swab sputum sampl may also use', 'result general avail within hour two day', 'blood test use requir two blood sampl taken two week apart result littl immedi valu', 'chines scientist abl isol strain coronavirus publish genet sequenc laboratori across world could independ develop polymeras chain reaction pcr test detect infect virus', 'prevent measur reduc chanc infect includ stay home avoid crowd place keep distanc other wash hand soap water often least second practis good respiratori hygien avoid touch eye nose mouth unwash hand', 'the u', 's', 'center diseas control prevent cdc recommend cover mouth nose tissu cough sneez recommend use insid elbow tissu avail', 'proper hand hygien cough sneez encourag', 'social distanc strategi aim reduc contact infect person larg group close school workplac restrict travel cancel larg public gather', 'covid drug develop research process develop prevent vaccin therapeut prescript drug would allevi sever coronavirus diseas covid', 'vaccin drug develop multistep process typic requir five year assur safeti efficaci new compound', 'in februari who said expect vaccin sarscov causat virus covid becom avail less monthsand conserv estim time need prove safe effect vaccin month earli', 'sever nation regulatori agenc ema fda approv procedur expedit clinic test']\n",
            "40\n"
          ],
          "name": "stdout"
        }
      ]
    },
    {
      "cell_type": "code",
      "metadata": {
        "id": "3TmK-WPTCOlh",
        "colab": {
          "base_uri": "https://localhost:8080/",
          "height": 122
        },
        "outputId": "68fd0dec-f909-4860-b550-79f5bc5a0719"
      },
      "source": [
        "!pip install \"tensorflow_hub>=0.6.0\""
      ],
      "execution_count": null,
      "outputs": [
        {
          "output_type": "stream",
          "text": [
            "Requirement already satisfied: tensorflow_hub>=0.6.0 in /usr/local/lib/python3.6/dist-packages (0.8.0)\n",
            "Requirement already satisfied: numpy>=1.12.0 in /usr/local/lib/python3.6/dist-packages (from tensorflow_hub>=0.6.0) (1.18.5)\n",
            "Requirement already satisfied: six>=1.12.0 in /usr/local/lib/python3.6/dist-packages (from tensorflow_hub>=0.6.0) (1.12.0)\n",
            "Requirement already satisfied: protobuf>=3.8.0 in /usr/local/lib/python3.6/dist-packages (from tensorflow_hub>=0.6.0) (3.10.0)\n",
            "Requirement already satisfied: setuptools in /usr/local/lib/python3.6/dist-packages (from protobuf>=3.8.0->tensorflow_hub>=0.6.0) (47.1.1)\n"
          ],
          "name": "stdout"
        }
      ]
    },
    {
      "cell_type": "code",
      "metadata": {
        "id": "1q8zoxI6BF44",
        "colab": {
          "base_uri": "https://localhost:8080/",
          "height": 860
        },
        "outputId": "d5695394-2537-4a88-9284-14f88a2a7a25"
      },
      "source": [
        "import tensorflow as tf\n",
        "import numpy as np\n",
        "import tensorflow_hub as hub\n",
        "url = \"https://tfhub.dev/google/universal-sentence-encoder-large/3\"\n",
        "# Import the Universal Sentence Encoder's TF Hub module\n",
        "embed = hub.KerasLayer(url)\n",
        "\n",
        "# Compute a representation for each message, showing various lengths supported.\n",
        "#messages = [\"That band rocks!\", \"That song is really cool.\"]\n",
        "\n",
        "\n",
        "\n",
        "np_list = np.asarray(sent_list)\n",
        "tensor_list = tf.convert_to_tensor(np_list)\n",
        "print(np_list)\n",
        "inemb=embed(tensor_list)\n",
        "print(inemb)"
      ],
      "execution_count": null,
      "outputs": [
        {
          "output_type": "stream",
          "text": [
            "['Sentences'\n",
            " 'coronavirus diseas covid infecti diseas caus sever acut respiratori syndrom coronavirus sarscov'\n",
            " 'it first identifi decemb wuhan china result ongo pandem'\n",
            " 'the first case may trace back novemb' 'as june'\n",
            " 'million case report across countri territori result death' 'more'\n",
            " 'million peopl recov'\n",
            " 'fever common symptom high variabl sever present older immunocompromis critic ill peopl fever'\n",
            " 'other common symptom includ cough loss appetit fatigu short breath sputum product muscl joint pain'\n",
            " 'symptom nausea vomit diarrhoea observ vari percentag'\n",
            " 'less common symptom includ sneez runni nose sore throat skin lesion'\n",
            " 'some case china initi present chest tight palpit'\n",
            " 'a decreas sens smell disturb tast may occur'\n",
            " 'loss smell present symptom confirm case south korea'\n",
            " 'as common infect delay moment person first infect time develop symptom'\n",
            " 'this call incub period'\n",
            " 'covid spread primarili peopl close contact one person inhal small droplet produc infect person symptomat not cough sneez talk sing'\n",
            " 'the who recommend metr ft social distanc u' 's' 'cdc recommend metr ft'\n",
            " 'peopl transmit virus without show symptom unclear often happen'\n",
            " 'one estim number infect asymptomat'\n",
            " 'peopl infecti show symptom even mild nonspecif symptom may infecti two day symptom appear'\n",
            " 'the who publish sever test protocol diseas'\n",
            " 'the standard method test realtim revers transcript polymeras chain reaction rrtpcr'\n",
            " 'the test typic done respiratori sampl obtain nasopharyng swab howev nasal swab sputum sampl may also use'\n",
            " 'result general avail within hour two day'\n",
            " 'blood test use requir two blood sampl taken two week apart result littl immedi valu'\n",
            " 'chines scientist abl isol strain coronavirus publish genet sequenc laboratori across world could independ develop polymeras chain reaction pcr test detect infect virus'\n",
            " 'prevent measur reduc chanc infect includ stay home avoid crowd place keep distanc other wash hand soap water often least second practis good respiratori hygien avoid touch eye nose mouth unwash hand'\n",
            " 'the u' 's'\n",
            " 'center diseas control prevent cdc recommend cover mouth nose tissu cough sneez recommend use insid elbow tissu avail'\n",
            " 'proper hand hygien cough sneez encourag'\n",
            " 'social distanc strategi aim reduc contact infect person larg group close school workplac restrict travel cancel larg public gather'\n",
            " 'covid drug develop research process develop prevent vaccin therapeut prescript drug would allevi sever coronavirus diseas covid'\n",
            " 'vaccin drug develop multistep process typic requir five year assur safeti efficaci new compound'\n",
            " 'in februari who said expect vaccin sarscov causat virus covid becom avail less monthsand conserv estim time need prove safe effect vaccin month earli'\n",
            " 'sever nation regulatori agenc ema fda approv procedur expedit clinic test']\n",
            "tf.Tensor(\n",
            "[[ 0.08943061  0.0109078  -0.03628036 ...  0.03063637  0.02950576\n",
            "  -0.06949024]\n",
            " [ 0.05458611 -0.02542491 -0.03089937 ...  0.06020054  0.00218554\n",
            "   0.02009225]\n",
            " [-0.04478521 -0.02822738 -0.01633098 ...  0.05521753 -0.10976229\n",
            "  -0.00682963]\n",
            " ...\n",
            " [ 0.02491782 -0.01382995  0.03875009 ...  0.00271462 -0.04216081\n",
            "  -0.01199808]\n",
            " [ 0.01186593  0.01998734  0.09251752 ...  0.01441262 -0.06466042\n",
            "  -0.04084181]\n",
            " [ 0.02027807  0.01367294 -0.03090378 ... -0.01188346 -0.06934351\n",
            "  -0.03778714]], shape=(40, 512), dtype=float32)\n"
          ],
          "name": "stdout"
        }
      ]
    },
    {
      "cell_type": "code",
      "metadata": {
        "id": "-SM_rngZKPkN"
      },
      "source": [
        "from numpy import array\n",
        "import tensorflow as tf\n",
        "from keras.layers import LSTM\n",
        "from keras.models import Sequential\n",
        "from keras.layers import RepeatVector\n",
        "from keras.layers import Dense\n",
        "from keras.layers import Flatten\n",
        "from keras.layers.embeddings import Embedding\n",
        "from keras.layers import TimeDistributed\n",
        "from keras.utils import plot_model\n",
        "from keras.layers import Bidirectional\n",
        "\n",
        "doc=array(inemb)\n",
        "do=doc.reshape(1,40,512)\n",
        "\n",
        "#print('shape of do'),\n",
        "#print(do.shape)\n",
        "\n",
        "model = tf.keras.Sequential()\n",
        "#model.add(tf.keras.layers.Embedding(vocab_size, 8, input_length=25))\n",
        "model.add(tf.keras.layers.Bidirectional(tf.keras.layers.LSTM(25, return_sequences=True), input_shape=(100,512)))\n",
        "model.add(tf.keras.layers.TimeDistributed(tf.keras.layers.Dense(1)))\n",
        "model.compile(loss='binary_crossentropy', optimizer='adam', metrics=['accuracy'])"
      ],
      "execution_count": null,
      "outputs": []
    },
    {
      "cell_type": "code",
      "metadata": {
        "id": "cb-OXkX_6Cf1",
        "colab": {
          "base_uri": "https://localhost:8080/",
          "height": 255
        },
        "outputId": "ad348b4b-9f14-4462-b5e0-2ee59366f08b"
      },
      "source": [
        "model.fit(do, do, epochs=10,batch_size=1,verbose=0)\n",
        "yhat = model.predict(do, verbose=0)\n",
        "print(yhat[0,:,0])\n",
        "#print('Accuracy: %f' % (accuracy*100))"
      ],
      "execution_count": null,
      "outputs": [
        {
          "output_type": "stream",
          "text": [
            "WARNING:tensorflow:Model was constructed with shape (None, 100, 512) for input Tensor(\"bidirectional_5_input:0\", shape=(None, 100, 512), dtype=float32), but it was called on an input with incompatible shape (1, 40, 512).\n"
          ],
          "name": "stdout"
        },
        {
          "output_type": "stream",
          "text": [
            "WARNING:tensorflow:Model was constructed with shape (None, 100, 512) for input Tensor(\"bidirectional_5_input:0\", shape=(None, 100, 512), dtype=float32), but it was called on an input with incompatible shape (1, 40, 512).\n"
          ],
          "name": "stderr"
        },
        {
          "output_type": "stream",
          "text": [
            "WARNING:tensorflow:Model was constructed with shape (None, 100, 512) for input Tensor(\"bidirectional_5_input:0\", shape=(None, 100, 512), dtype=float32), but it was called on an input with incompatible shape (1, 40, 512).\n"
          ],
          "name": "stdout"
        },
        {
          "output_type": "stream",
          "text": [
            "WARNING:tensorflow:Model was constructed with shape (None, 100, 512) for input Tensor(\"bidirectional_5_input:0\", shape=(None, 100, 512), dtype=float32), but it was called on an input with incompatible shape (1, 40, 512).\n"
          ],
          "name": "stderr"
        },
        {
          "output_type": "stream",
          "text": [
            "WARNING:tensorflow:Model was constructed with shape (None, 100, 512) for input Tensor(\"bidirectional_5_input:0\", shape=(None, 100, 512), dtype=float32), but it was called on an input with incompatible shape (None, 40, 512).\n"
          ],
          "name": "stdout"
        },
        {
          "output_type": "stream",
          "text": [
            "WARNING:tensorflow:Model was constructed with shape (None, 100, 512) for input Tensor(\"bidirectional_5_input:0\", shape=(None, 100, 512), dtype=float32), but it was called on an input with incompatible shape (None, 40, 512).\n"
          ],
          "name": "stderr"
        },
        {
          "output_type": "stream",
          "text": [
            "[-0.17258425 -0.25455752 -0.27843952 -0.27323115 -0.29208732 -0.33378544\n",
            " -0.2970642  -0.33717033 -0.38534698 -0.40562776 -0.41867015 -0.44885612\n",
            " -0.42474267 -0.3895083  -0.40221056 -0.38938153 -0.36234242 -0.38519284\n",
            " -0.33163795 -0.3458007  -0.36819744 -0.3882267  -0.39844972 -0.4260376\n",
            " -0.38815364 -0.3977092  -0.4090575  -0.40394944 -0.39248928 -0.42137873\n",
            " -0.3985904  -0.3715169  -0.36715403 -0.39301842 -0.39993328 -0.37690672\n",
            " -0.35402313 -0.33591512 -0.3273979  -0.2811273 ]\n"
          ],
          "name": "stdout"
        }
      ]
    },
    {
      "cell_type": "code",
      "metadata": {
        "id": "bXl6wujEIlIG"
      },
      "source": [
        "import numpy as np\n",
        "\n",
        "new=yhat[0,:,0]\n",
        "new1=new.tolist()\n",
        "i=0\n",
        "list=[]\n",
        "length=len(new1)\n",
        "while(i!=length):\n",
        "  list.append(new[i])\n",
        "  j=0\n",
        "  while(j!=100):\n",
        "      list.append(0)\n",
        "      j=j+1\n",
        "  i=i+1\n",
        "print(len(list))\n",
        "\n",
        "\n",
        "arr=np.array(list)\n",
        "arr1=np.reshape((arr),(40,41))\n",
        "print(arr1)\n",
        "\n",
        "\n"
      ],
      "execution_count": null,
      "outputs": []
    },
    {
      "cell_type": "code",
      "metadata": {
        "id": "01d27nU63jgx"
      },
      "source": [],
      "execution_count": null,
      "outputs": []
    },
    {
      "cell_type": "code",
      "metadata": {
        "id": "Igo2YNkaz4YF",
        "colab": {
          "base_uri": "https://localhost:8080/",
          "height": 238
        },
        "outputId": "9183bd27-9556-49f6-8d05-0bd6e8571814"
      },
      "source": [
        "from numpy import array\n",
        "from sklearn.decomposition import TruncatedSVD\n",
        "# svd\n",
        "svd = TruncatedSVD(n_components=100)\n",
        "svd.fit(arr1)\n",
        "new = svd.transform(arr1)\n",
        "print(new)"
      ],
      "execution_count": null,
      "outputs": [
        {
          "output_type": "stream",
          "text": [
            "[[2.99977303e-01 0.00000000e+00 0.00000000e+00 ... 0.00000000e+00\n",
            "  0.00000000e+00 2.98528526e-17]\n",
            " [3.31930161e-01 0.00000000e+00 0.00000000e+00 ... 0.00000000e+00\n",
            "  0.00000000e+00 3.30327064e-17]\n",
            " [3.79919469e-01 0.00000000e+00 0.00000000e+00 ... 0.00000000e+00\n",
            "  0.00000000e+00 3.78084603e-17]\n",
            " ...\n",
            " [3.46330583e-01 0.00000000e+00 0.00000000e+00 ... 0.00000000e+00\n",
            "  0.00000000e+00 3.44657938e-17]\n",
            " [3.59654784e-01 0.00000000e+00 0.00000000e+00 ... 0.00000000e+00\n",
            "  0.00000000e+00 3.57917788e-17]\n",
            " [3.09229255e-01 0.00000000e+00 0.00000000e+00 ... 0.00000000e+00\n",
            "  0.00000000e+00 3.07735795e-17]]\n"
          ],
          "name": "stdout"
        }
      ]
    },
    {
      "cell_type": "code",
      "metadata": {
        "id": "L9r_10z1_Wjf",
        "colab": {
          "base_uri": "https://localhost:8080/",
          "height": 255
        },
        "outputId": "164a77c2-f323-4355-8a60-1730d9338c0c"
      },
      "source": [
        "from scipy.ndimage import gaussian_filter\n",
        "\n",
        "new1=gaussian_filter(new,sigma=1)\n",
        "print(new1)\n",
        "print(len(new1))\n",
        "\n",
        "\n"
      ],
      "execution_count": null,
      "outputs": [
        {
          "output_type": "stream",
          "text": [
            "[[2.01669607e-01 9.31272691e-02 1.83833157e-02 ... 1.82945313e-18\n",
            "  9.26774998e-18 2.00695619e-17]\n",
            " [2.17412173e-01 1.00396893e-01 1.98183389e-02 ... 1.97226239e-18\n",
            "  9.99120141e-18 2.16362155e-17]\n",
            " [2.41453642e-01 1.11498796e-01 2.20098537e-02 ... 2.19035545e-18\n",
            "  1.10960299e-17 2.40287513e-17]\n",
            " ...\n",
            " [2.33309166e-01 1.07737828e-01 2.12674389e-02 ... 2.11647253e-18\n",
            "  1.07217495e-17 2.32182371e-17]\n",
            " [2.20412093e-01 1.01782200e-01 2.00917985e-02 ... 1.99947627e-18\n",
            "  1.01290631e-17 2.19347587e-17]\n",
            " [2.09417770e-01 9.67052266e-02 1.90896042e-02 ... 1.89974087e-18\n",
            "  9.62381771e-18 2.08406362e-17]]\n",
            "100\n"
          ],
          "name": "stdout"
        }
      ]
    },
    {
      "cell_type": "code",
      "metadata": {
        "id": "ZBIx8oY0AT9M",
        "colab": {
          "base_uri": "https://localhost:8080/",
          "height": 496
        },
        "outputId": "3ea86743-1844-4320-ed17-0b85968a5a60"
      },
      "source": [
        "import numpy as np\n",
        "def cos_sim(a, b):\n",
        "\t\"\"\"Takes 2 vectors a, b and returns the cosine similarity according\n",
        "\t  to the definition of the dot product\n",
        "\t\"\"\"\n",
        "\n",
        "\tdot_product = np.dot(a, b)\n",
        "\tnorm_a = np.linalg.norm(a)\n",
        "\tnorm_b = np.linalg.norm(b)\n",
        "\treturn dot_product / (norm_a * norm_b)\n",
        "\n",
        "\n",
        "list1=[]\n",
        "i=0\n",
        "j=1\n",
        "while(j!=length):\n",
        "\tp=cos_sim(new1[i],new1[j])\n",
        "\ti=i+1\n",
        "\tj=j+1\n",
        "\tlist1.append(p)\n",
        "print(list1)\n",
        "length=len(list1)\n",
        "i=0\n",
        "while(i!=length):\n",
        "\tif(list1[i]<1):\n",
        "\t\ta=i\n",
        "\n",
        "\t\tprint(a)\n",
        "\ti=i+1\n",
        "\n"
      ],
      "execution_count": null,
      "outputs": [
        {
          "output_type": "stream",
          "text": [
            "[1.0, 1.0000000000000002, 1.0000000000000002, 0.9999999999999999, 0.9999999999999999, 0.9999999999999999, 0.9999999999999999, 1.0000000000000002, 1.0000000000000002, 1.0000000000000002, 0.9999999999999999, 1.0, 1.0000000000000002, 1.0, 1.0000000000000002, 1.0000000000000002, 1.0000000000000002, 1.0, 1.0, 1.0, 1.0, 1.0000000000000002, 1.0000000000000002, 1.0, 0.9999999999999998, 1.0, 1.0, 1.0, 1.0, 1.0, 0.9999999999999998, 0.9999999999999998, 0.9999999999999998, 1.0, 0.9999999999999998, 0.9999999999999998, 1.0000000000000002, 1.0000000000000002, 1.0000000000000002, 1.0, 1.0, 1.0, 1.0, 1.0, 1.0, 1.0000000000000002, 0.9999999999999999, 0.9999999999999999, 1.0000000000000002, 1.0, 1.0, 1.0000000000000002, 0.9999999999999999, 1.0000000000000002, 1.0, 1.0, 0.9999999999999999, 1.0, 1.0, 1.0000000000000002, 1.0, 1.0, 1.0000000000000002, 1.0000000000000002, 1.0, 0.9999999999999999, 1.0, 1.0000000000000002, 1.0000000000000002, 1.0, 0.9999999999999997, 0.9999999999999999, 1.0, 1.0, 1.0, 0.9999999999999999, 0.9999999999999999, 1.0, 1.0, 0.9999999999999999, 1.0000000000000002, 1.0, 1.0, 1.0000000000000002, 1.0000000000000002, 1.0, 1.0000000000000002, 1.0, 1.0000000000000002, 1.0, 1.0000000000000002, 0.9999999999999999, 0.9999999999999997, 1.0, 1.0, 0.9999999999999998, 0.9999999999999998, 0.9999999999999998, 1.0000000000000002]\n",
            "3\n",
            "4\n",
            "5\n",
            "6\n",
            "10\n",
            "24\n",
            "30\n",
            "31\n",
            "32\n",
            "34\n",
            "35\n",
            "46\n",
            "47\n",
            "52\n",
            "56\n",
            "65\n",
            "70\n",
            "71\n",
            "75\n",
            "76\n",
            "79\n",
            "91\n",
            "92\n",
            "95\n",
            "96\n",
            "97\n"
          ],
          "name": "stdout"
        }
      ]
    },
    {
      "cell_type": "code",
      "metadata": {
        "id": "waorDJpalEWh",
        "colab": {
          "base_uri": "https://localhost:8080/",
          "height": 510
        },
        "outputId": "2bbe667b-d4e0-496c-c80b-7251fd45b81d"
      },
      "source": [
        "if(list1[0]<1.0):\n",
        "  print(list1[0])\n",
        "i=0\n",
        "j=1\n",
        "length=len(list1)\n",
        "while(j!=length):\n",
        "  a=list1[i]*list1[j]\n",
        "  b=a**0.5\n",
        "  if(b<1.0):\n",
        "    print(i)\n",
        "  i=i+1\n",
        "  j=j+1\n",
        "if(list1[length-1]<1.0):\n",
        "  print(list1[length-1])"
      ],
      "execution_count": null,
      "outputs": [
        {
          "output_type": "stream",
          "text": [
            "3\n",
            "4\n",
            "5\n",
            "10\n",
            "23\n",
            "24\n",
            "29\n",
            "30\n",
            "31\n",
            "32\n",
            "33\n",
            "34\n",
            "46\n",
            "55\n",
            "56\n",
            "64\n",
            "65\n",
            "69\n",
            "70\n",
            "71\n",
            "74\n",
            "75\n",
            "76\n",
            "78\n",
            "91\n",
            "92\n",
            "94\n",
            "95\n",
            "96\n"
          ],
          "name": "stdout"
        }
      ]
    },
    {
      "cell_type": "markdown",
      "metadata": {
        "id": "Dk30e_FgA0VT"
      },
      "source": [
        "**READING FROM CSV FILE**"
      ]
    },
    {
      "cell_type": "code",
      "metadata": {
        "id": "NMg-mPc3msC2",
        "colab": {
          "base_uri": "https://localhost:8080/",
          "height": 927
        },
        "outputId": "6c748d11-36d4-470f-e8ff-302de3c449b2"
      },
      "source": [
        "import tensorflow as tf\n",
        "import numpy as np\n",
        "from sklearn.decomposition import PCA\n",
        "import gensim.models.word2vec\n",
        "from collections import Counter\n",
        "from sklearn.metrics.pairwise import cosine_similarity\n",
        "import itertools\n",
        "import nltk\n",
        "from nltk.tokenize import sent_tokenize\n",
        "from nltk.tokenize import word_tokenize\n",
        "import csv\n",
        "import pandas as pd\n",
        "import keras\n",
        "import re\n",
        "from sklearn.model_selection import train_test_split\n",
        "from keras.models import Sequential\n",
        "from keras.layers import LSTM\n",
        "from keras.layers import Dense\n",
        "from keras.layers import Embedding\n",
        "from keras.layers import Activation\n",
        "from keras.callbacks.callbacks import EarlyStopping\n",
        "\n",
        "df = pd.read_csv('usertest.csv',encoding= 'unicode_escape')\n",
        "print(df[df.isnull().any(axis=1)])\n",
        "df.fillna(value='',axis=0, inplace=True)\n",
        "#unique_lab = df.Label.value_counts(sort=True, ascending=False)\n",
        "\n",
        "x=df['Sentence'].values\n",
        "# xm=[]\n",
        "# for sent in x:\n",
        "#   regex = re.compile('[^a-zA-Z]')\n",
        "#   #First parameter is the replacement, second parameter is your input string\n",
        "#   x1=regex.sub('', sent)\n",
        "#   #Out: 'abdE'\n",
        "#   xm.append(x1)\n",
        "print(x);\n",
        "\n",
        "y = df['Label'].values\n",
        "ym=[]\n",
        "for sent in y:\n",
        "  regex = re.compile('[^a-zA-Z]')\n",
        "  #First parameter is the replacement, second parameter is your input string\n",
        "  y1=regex.sub('', sent)\n",
        "  #Out: 'abdE'\n",
        "  ym.append(y1)\n",
        "\n",
        "# ya=np.array(ym)\n",
        "# print('Shape of label tensor:',ya.shape)\n",
        "# print(ya);\n",
        "\n"
      ],
      "execution_count": null,
      "outputs": [
        {
          "output_type": "stream",
          "text": [
            "Empty DataFrame\n",
            "Columns: [Sentence, Label]\n",
            "Index: []\n",
            "['The usual incubation period (the time between infection and symptom onset) ranges from one to 14 days, and is most commonly five days.'\n",
            " 'Some infected people have no symptoms, known as asymptomatic or presymptomatic carriers; transmission from such a carrier is considered possible.'\n",
            " 'Symptoms of COVID-19 can be relatively non-specific; the two most common symptoms are fever (88 percent) and dry cough (68 percent)'\n",
            " 'Less common symptoms include fatigue, respiratory sputum production (phlegm), loss of the sense of smell, loss of taste, shortness of breath, muscle and joint pain, sore throat, headache, chills, vomiting, coughing out blood, diarrhea, and rash'\n",
            " 'Among those who develop symptoms, approximately one in five may become more seriously ill and have difficulty breathing'\n",
            " 'Emergency symptoms include difficulty breathing, persistent chest pain or pressure, sudden confusion, difficulty waking, and bluish face or lips; immediate medical attention is advised if these symptoms are present'\n",
            " 'Further development of the disease can lead to complications including pneumonia, acute respiratory distress syndrome, sepsis, septic shock, and kidney failure'\n",
            " 'COVID-19 can be provisionally diagnosed on the basis of symptoms and confirmed using reverse transcription polymerase chain reaction (RT-PCR) testing of infected secretions or CT imaging of the chest'\n",
            " 'The standard test for current infection with SARS-CoV-2 uses RNA testing of respiratory secretions collected using a nasopharyngeal swab, though it is possible to test other samples. '\n",
            " 'This test uses real-time rRT-PCR which detects the presence of viral RNA fragments.'\n",
            " 'A number of laboratories and companies have developed serological tests, which detect antibodies produced by the body in response to infection.'\n",
            " 'Several have been evaluated by Public Health England and approved for use in the UK.'\n",
            " 'Testing is often performed in automated, high-throughput centralized medical laboratories by medical laboratory scientists.'\n",
            " 'Characteristic imaging features on chest radiographs and computed tomography (CT) of people who are symptomatic include asymmetric peripheral ground-glass opacities without pleural effusions'\n",
            " 'The Italian Radiological Society is compiling an international online database of imaging findings for confirmed cases'\n",
            " 'Due to overlap with other infections such as adenovirus, imaging without confirmation by rRT-PCR is of limited specificity in identifying COVID-19'\n",
            " ' A large study in China compared chest CT results to PCR and demonstrated that though imaging is less specific for the infection, it is faster and more sensitive'\n",
            " 'There is no COVID-19 vaccine, though many organisations are working to develop one.\\n\\n'\n",
            " 'Misconceptions are circulating about how to prevent infection; for example, rinsing the nose and gargling with mouthwash are not effective'\n",
            " 'Many governments have restricted or advised against all non-essential travel to and from countries and areas affected by the outbreak.'\n",
            " 'The virus has already spread within communities in large parts of the world, with many not knowing where or how they were infected.'\n",
            " 'Strategies for preventing transmission of the disease include maintaining overall good personal hygiene, washing hands, avoiding touching the eyes, nose, or mouth with unwashed hands, and coughing or sneezing into a tissue, and putting the tissue directly into a waste container.'\n",
            " 'Those who may already have the infection have been advised to wear a surgical mask in public.'\n",
            " ' Physical distancing measures are also recommended to prevent transmission.'\n",
            " 'Health care providers taking care of someone who may be infected are recommended to use standard precautions, contact precautions, and eye protection.'\n",
            " 'There are several theories about where the very first case (the so-called patient zero) originated'\n",
            " 'According to an unpublicized report from the Chinese government, the first case can be traced back to 17 November 2019; the person was a 55-year old citizen in Hubei province.'\n",
            " 'There were four men and five women reported to be infected on November, but none of them were \"patient zero\".'\n",
            " ' According to official Chinese sources, these were mostly linked to the Huanan Seafood Wholesale Market, which also sold live animals'\n",
            " 'In May 2020, George Gao, the director of the Chinese Center for Disease Control and Prevention, said animal samples collected from the seafood market had tested negative for the virus, indicating that the market was the site of an early superspreading event, but it was not the site of the initial outbreak.'\n",
            " 'Starting from December, the number of coronavirus cases in Hubei gradually increased, reaching 60 by 20 December'\n",
            " 'On 24 December, Wuhan Central Hospital sent a bronchoalveolar lavage fluid (BAL) sample from an unresolved clinical case to sequencing company Vision Medicals. '\n",
            " ' On 27 and 28 December, Vision Medicals informed the Wuhan Central Hospital and the Chinese CDC of the results of the test, showing a new coronavirus.'\n",
            " 'A pneumonia cluster of unknown cause was observed on 26 December and treated by the doctor Zhang Jixian in Hubei Provincial Hospital, who informed the Wuhan Jianghan CDC on 27 December.'\n",
            " 'On 30 December, a test report addressed to Wuhan Central Hospital, from company CapitalBio Medlab, stated an erroneous positive result for SARS, causing a group of doctors at Wuhan Central Hospital to alert their colleagues and relevant hospital authorities of the result.'\n",
            " 'That evening, the Wuhan Municipal Health Commission issued a notice to various medical institutions on \"the treatment of pneumonia of unknown cause\"'\n",
            " ' Eight of these doctors, including Li Wenliang (punished on 3 January),[503] were later admonished by the police for spreading false rumours, and another, Ai Fen, was reprimanded by her superiors for raising the alarm'\n",
            " 'The Wuhan Municipal Health Commission made the first public announcement of a pneumonia outbreak of unknown cause on 31 December, confirming 27 cases'\n",
            " 'Strategies in the control of an outbreak are screening, containment (or suppression) and mitigation. Screening is done with a device such as a thermometer to detect the elevated body temperature associated with fevers caused by the Coronavirus.'\n",
            " 'Containment is undertaken in the early stages of the outbreak and aims to trace and isolate those infected as well as introduce other measures to stop the disease from spreading. When it is no longer possible to contain the disease, efforts then move to the mitigation stage'\n",
            " 'Suppression requires more extreme measures so as to reverse the pandemic by reducing the basic reproduction number to less than 1'\n",
            " 'Part of managing an infectious disease outbreak is trying to delay and decrease the epidemic peak, known as flattening the epidemic curve'\n",
            " 'This decreases the risk of health services being overwhelmed and provides more time for vaccines and treatments to be developed.'\n",
            " 'Non-pharmaceutical interventions that may manage the outbreak include personal preventive measures such as hand hygiene, wearing face masks, and self-quarantine; community measures aimed at physical distancing such as closing schools and cancelling mass gathering events; community engagement to encourage acceptance and participation in such interventions; as well as environmental measures such surface cleaning.'\n",
            " 'More drastic actions aimed at containing the outbreak were taken in China once the severity of the outbreak became apparent, such as quarantining entire cities and imposing strict travel bans'\n",
            " 'Other countries also adopted a variety of measures aimed at limiting the spread of the virus. South Korea introduced the mass screening and localised quarantines and issued alerts on the movements of infected individuals. Singapore provided financial support for those infected who quarantined themselves and imposed large fines for those who failed to do so.'\n",
            " 'Taiwan increased face mask production and penalised hoarding of medical supplies'\n",
            " 'Simulations for Great Britain and the United States show that mitigation (slowing but not stopping epidemic spread) and suppression (reversing epidemic growth) have major challenges'\n",
            " ' Optimal mitigation policies might reduce peak healthcare demand by two-thirds and deaths by half, but still result in hundreds of thousands of deaths and overwhelmed health systems.'\n",
            " 'Suppression can be preferred but needs to be maintained for as long as the virus is circulating in the human population (or until a vaccine becomes available), as transmission otherwise quickly rebounds when measures are relaxed. Long-term intervention to suppress the pandemic has considerable social and economic costs']\n"
          ],
          "name": "stdout"
        }
      ]
    },
    {
      "cell_type": "markdown",
      "metadata": {
        "id": "wwE_ACYeBIkD"
      },
      "source": [
        "**TO FIND SENTENCE EMBEDING**"
      ]
    },
    {
      "cell_type": "code",
      "metadata": {
        "id": "xiFPTmLInk2e",
        "colab": {
          "base_uri": "https://localhost:8080/",
          "height": 1000
        },
        "outputId": "309a4477-87b1-49e7-d50b-da14dd50b3c6"
      },
      "source": [
        "import tensorflow as tf\n",
        "import numpy as np\n",
        "import tensorflow_hub as hub\n",
        "url = \"https://tfhub.dev/google/universal-sentence-encoder-large/3\"\n",
        "# Import the Universal Sentence Encoder's TF Hub module\n",
        "embed = hub.KerasLayer(url)\n",
        "\n",
        "# Compute a representation for each message, showing various lengths supported.\n",
        "#messages = [\"That band rocks!\", \"That song is really cool.\"]\n",
        "\n",
        "np_list = np.asarray(x)\n",
        "tensor_list = tf.convert_to_tensor(np_list)\n",
        "\n",
        "inemb=embed(tensor_list)\n",
        "X=np.array(inemb)\n",
        "print(X.shape)\n",
        "print(X[1])"
      ],
      "execution_count": null,
      "outputs": [
        {
          "output_type": "stream",
          "text": [
            "(50, 512)\n",
            "[-0.01039853 -0.02701458  0.02882953 -0.00585437  0.06555723 -0.03763329\n",
            " -0.04561336 -0.00356026 -0.03742265  0.04771096  0.0137173   0.04241151\n",
            " -0.11555288  0.00956567  0.03220725 -0.08361451  0.02997233  0.00230015\n",
            "  0.00743559  0.02679411  0.02279343  0.06722389  0.02255373  0.02715516\n",
            " -0.04772843  0.01607577  0.06695978  0.06320512 -0.02332178 -0.01966527\n",
            "  0.01790928 -0.08469796 -0.02320081 -0.07860933  0.0165997   0.02297875\n",
            "  0.01458892  0.0749397   0.01071396 -0.02140175 -0.02408499  0.01534618\n",
            "  0.04411556 -0.01683128  0.06502429  0.01929915  0.00834309  0.00013051\n",
            "  0.0547455  -0.00988404  0.03603745  0.03627491 -0.04922928  0.031744\n",
            "  0.00981441  0.07191338  0.05509761  0.02794751 -0.05679391 -0.03479852\n",
            " -0.06673011 -0.04492323 -0.00097861  0.02673047 -0.09381574 -0.01935883\n",
            " -0.01870472  0.02809259 -0.03405958 -0.02587569 -0.0264174   0.00160211\n",
            "  0.00578018  0.07417231  0.00491563  0.05225519 -0.04931859 -0.03379545\n",
            " -0.05547905 -0.00187482  0.00591152  0.05006622 -0.04799988 -0.07069262\n",
            " -0.01419833  0.04147556  0.08697604  0.00982134  0.01967467 -0.00978969\n",
            " -0.0725309   0.04367583  0.05040832  0.04148388  0.0383511   0.03521894\n",
            " -0.01488949  0.0130465  -0.04004855  0.02675831 -0.02831256 -0.04419839\n",
            "  0.03443248  0.01822778 -0.01680357 -0.04101184  0.02784755 -0.03208127\n",
            "  0.02544129  0.00852773 -0.0273125   0.01711078  0.02016831  0.0788764\n",
            "  0.02885857  0.02223395  0.00038118  0.01923734  0.02801797  0.02103872\n",
            " -0.02608029 -0.0470033  -0.02811741  0.03016678  0.10156488 -0.01270364\n",
            " -0.06755851  0.02788156 -0.0457301  -0.04901544  0.04506273  0.03331633\n",
            "  0.0095446  -0.03952925 -0.00828836  0.01024872  0.00915847  0.00503845\n",
            " -0.06735428 -0.01792188 -0.00143404 -0.01219094 -0.01789851  0.02444862\n",
            " -0.02678175  0.02018686  0.0130877  -0.03147666 -0.00834681  0.04808293\n",
            "  0.0221825  -0.03280078  0.02116667 -0.00401397 -0.01838823 -0.05110129\n",
            "  0.02326324  0.07007248  0.05930082 -0.06059835 -0.02556129 -0.02634066\n",
            "  0.04346027 -0.07600661 -0.00606342 -0.0303227  -0.00967528 -0.05659633\n",
            " -0.02333418  0.02075413  0.0362003   0.06347626  0.0062161   0.04857117\n",
            "  0.0063417  -0.04537931  0.02839056  0.0620898   0.04595166  0.02360213\n",
            "  0.00637581  0.01840165  0.0142056  -0.0025517   0.06636231 -0.01524069\n",
            " -0.03264722 -0.02906882  0.02107934 -0.02279471 -0.03761161  0.0482238\n",
            " -0.01197481  0.03217044  0.06396415  0.08318887 -0.01455867 -0.05650712\n",
            "  0.00387926  0.02215322  0.04933772  0.04927662 -0.01137197 -0.02403051\n",
            "  0.05251104  0.04215992 -0.01872472 -0.03693728  0.01227965  0.00463603\n",
            " -0.01703089 -0.01335457 -0.01834981 -0.02632294 -0.05820616  0.01497652\n",
            " -0.1042834  -0.08872526  0.06731629 -0.06603733  0.03241257 -0.02805897\n",
            " -0.07123924 -0.02492524  0.00749338  0.00493343 -0.07590538 -0.05692489\n",
            "  0.01275118  0.06055548 -0.00127792  0.03359443 -0.06664702  0.02002073\n",
            "  0.06582294  0.05262236 -0.03254684 -0.03287501  0.01265128 -0.00305559\n",
            "  0.06325252  0.09195584  0.004079   -0.02066093  0.01913413  0.07834502\n",
            " -0.05931323  0.02989739  0.06902748  0.07232656  0.00166876  0.02079674\n",
            " -0.07555886 -0.01622864 -0.04985585  0.057532    0.01225849  0.0583365\n",
            "  0.08746359  0.02594554  0.05269765  0.03710035 -0.00631135 -0.0015455\n",
            "  0.08183479  0.05437229 -0.00205262  0.00479249 -0.05908208 -0.01084399\n",
            "  0.01524283 -0.00339098  0.02994296  0.08057213 -0.00925093  0.08277962\n",
            "  0.01373472  0.03772589 -0.02781269  0.00915877  0.08955902 -0.04563991\n",
            " -0.05079789  0.0126777   0.01854665  0.02654041  0.02069095  0.05154996\n",
            "  0.06007915 -0.04436409 -0.04858656 -0.02663081  0.01179585  0.03140911\n",
            " -0.01116452  0.05414947 -0.00694793  0.00240443 -0.08541194 -0.04600677\n",
            " -0.00768635 -0.03399247  0.07060919 -0.05515085 -0.0711356   0.00653615\n",
            " -0.02818603 -0.09986258  0.05557379  0.08049924 -0.02778407 -0.03184195\n",
            "  0.06683215  0.01759157  0.01232669  0.0204081  -0.10822664  0.00915382\n",
            " -0.0104824  -0.05062251  0.06591612  0.03626672  0.0034986   0.06185413\n",
            " -0.04030369 -0.0803038   0.04481333 -0.05096689 -0.01475084 -0.03347744\n",
            " -0.00498454  0.01825277 -0.03370212  0.06093512  0.07963912 -0.06517614\n",
            "  0.07491495  0.08930557 -0.05399225 -0.00236094 -0.03684835  0.06933692\n",
            " -0.0081712   0.06502486  0.04479562  0.03813741 -0.03043897  0.05563634\n",
            " -0.0321354  -0.04807846 -0.00259008  0.04162206  0.06817596 -0.04363729\n",
            "  0.05868201  0.07029998 -0.04392648 -0.01151626 -0.00063835  0.05573716\n",
            " -0.06186892  0.04075722  0.02063874  0.06473104 -0.01902393 -0.05209094\n",
            "  0.01792115  0.02223192  0.06881287  0.04953149  0.06225614 -0.05956693\n",
            " -0.0230859   0.02594242  0.03966351  0.03550638  0.0074301   0.03971443\n",
            "  0.01493292 -0.03630164  0.01185679 -0.07763091 -0.0694913   0.01352034\n",
            " -0.02996293  0.05954766  0.04973678 -0.05716461 -0.06895958 -0.0188088\n",
            " -0.06104111 -0.03897826 -0.0609524  -0.04823416 -0.01857594 -0.02457152\n",
            "  0.01844637  0.02802478 -0.08887648  0.06169448 -0.03606476 -0.00286715\n",
            "  0.05887708  0.01667616  0.07418309 -0.01865813 -0.01840439  0.05934819\n",
            " -0.02827971 -0.00353268 -0.0286251  -0.01659042 -0.06268197  0.05066975\n",
            "  0.03747242  0.06222451  0.00847754 -0.06285381 -0.01837063 -0.0200478\n",
            "  0.02037958 -0.03033334  0.00015928 -0.04560233  0.08989669  0.03470889\n",
            "  0.03909039 -0.01124013  0.0137752  -0.03130967 -0.03060283  0.00064268\n",
            " -0.04284601  0.05917542 -0.01315883 -0.02717593  0.02611355  0.00980019\n",
            "  0.0290431   0.02319976 -0.01807001  0.04695076  0.03278041 -0.02149183\n",
            " -0.05322024  0.05290282  0.08625443 -0.10910153  0.02099678  0.08871285\n",
            "  0.01377414 -0.00722703 -0.02209299 -0.03808188  0.01599253  0.00314768\n",
            "  0.05272698  0.06504659  0.04088911  0.05730643  0.06055466  0.03191621\n",
            " -0.0081021  -0.02273038 -0.07858944 -0.08744755  0.07129353 -0.02750461\n",
            " -0.01358167  0.033533   -0.05475847 -0.01462881  0.00309629  0.01516873\n",
            "  0.05819797 -0.03636     0.02816631  0.04591807 -0.00742809 -0.09823652\n",
            "  0.02328356  0.02427533 -0.04743091  0.03295279  0.00583454  0.06466717\n",
            "  0.01333877 -0.04118068  0.07580755 -0.0346256  -0.0873693   0.02703292\n",
            "  0.05399673  0.03135145  0.04393714 -0.00053227  0.07462308 -0.01874566\n",
            " -0.08473622  0.0375037  -0.0332475   0.02982744  0.08923536 -0.0659892\n",
            " -0.00070628 -0.01248074  0.09005723 -0.03913578 -0.01479581 -0.01162192\n",
            " -0.01773407 -0.01791827]\n"
          ],
          "name": "stdout"
        }
      ]
    },
    {
      "cell_type": "markdown",
      "metadata": {
        "id": "kF5r4B8PBrS2"
      },
      "source": [
        "**ONE HOT ENCODE LABELS**"
      ]
    },
    {
      "cell_type": "code",
      "metadata": {
        "id": "F1dKtOuyoF4c",
        "colab": {
          "base_uri": "https://localhost:8080/",
          "height": 890
        },
        "outputId": "b06ba9e0-8631-48f3-e986-76f75bac0856"
      },
      "source": [
        "from numpy import array\n",
        "from numpy import argmax\n",
        "from sklearn.preprocessing import LabelEncoder\n",
        "from sklearn.preprocessing import OneHotEncoder\n",
        "import csv\n",
        "values = ya\n",
        "# integer encode\n",
        "label_encoder = LabelEncoder()\n",
        "integer_encoded = label_encoder.fit_transform(values)\n",
        " # binary encode\n",
        "onehot_encoder = OneHotEncoder(sparse=False)\n",
        "integer_encoded = integer_encoded.reshape(len(integer_encoded), 1)\n",
        "onehot_encoded = onehot_encoder.fit_transform(integer_encoded)\n",
        "Y=array(onehot_encoded)\n",
        "print(Y)\n",
        "print(Y.shape)\n",
        "print(Y[0])\n"
      ],
      "execution_count": null,
      "outputs": [
        {
          "output_type": "stream",
          "text": [
            "[[0. 0. 0. 1. 0.]\n",
            " [0. 0. 0. 1. 0.]\n",
            " [0. 0. 0. 1. 0.]\n",
            " [0. 0. 0. 1. 0.]\n",
            " [0. 0. 0. 1. 0.]\n",
            " [0. 0. 0. 1. 0.]\n",
            " [0. 0. 0. 1. 0.]\n",
            " [1. 0. 0. 0. 0.]\n",
            " [1. 0. 0. 0. 0.]\n",
            " [1. 0. 0. 0. 0.]\n",
            " [1. 0. 0. 0. 0.]\n",
            " [1. 0. 0. 0. 0.]\n",
            " [1. 0. 0. 0. 0.]\n",
            " [1. 0. 0. 0. 0.]\n",
            " [1. 0. 0. 0. 0.]\n",
            " [1. 0. 0. 0. 0.]\n",
            " [1. 0. 0. 0. 0.]\n",
            " [0. 0. 1. 0. 0.]\n",
            " [0. 0. 1. 0. 0.]\n",
            " [0. 0. 1. 0. 0.]\n",
            " [0. 0. 1. 0. 0.]\n",
            " [0. 0. 1. 0. 0.]\n",
            " [0. 0. 1. 0. 0.]\n",
            " [0. 0. 1. 0. 0.]\n",
            " [0. 0. 1. 0. 0.]\n",
            " [0. 1. 0. 0. 0.]\n",
            " [0. 1. 0. 0. 0.]\n",
            " [0. 1. 0. 0. 0.]\n",
            " [0. 1. 0. 0. 0.]\n",
            " [0. 1. 0. 0. 0.]\n",
            " [0. 1. 0. 0. 0.]\n",
            " [0. 1. 0. 0. 0.]\n",
            " [0. 1. 0. 0. 0.]\n",
            " [0. 1. 0. 0. 0.]\n",
            " [0. 1. 0. 0. 0.]\n",
            " [0. 1. 0. 0. 0.]\n",
            " [0. 1. 0. 0. 0.]\n",
            " [0. 1. 0. 0. 0.]\n",
            " [0. 0. 0. 0. 1.]\n",
            " [0. 0. 0. 0. 1.]\n",
            " [0. 0. 0. 0. 1.]\n",
            " [0. 0. 0. 0. 1.]\n",
            " [0. 0. 0. 0. 1.]\n",
            " [0. 0. 0. 0. 1.]\n",
            " [0. 0. 0. 0. 1.]\n",
            " [0. 0. 0. 0. 1.]\n",
            " [0. 0. 0. 0. 1.]\n",
            " [0. 0. 0. 0. 1.]\n",
            " [0. 0. 0. 0. 1.]\n",
            " [0. 0. 0. 0. 1.]]\n",
            "(50, 5)\n",
            "[0. 0. 0. 1. 0.]\n"
          ],
          "name": "stdout"
        }
      ]
    },
    {
      "cell_type": "code",
      "metadata": {
        "id": "58wchEqxZ2vV"
      },
      "source": [],
      "execution_count": null,
      "outputs": []
    },
    {
      "cell_type": "code",
      "metadata": {
        "id": "rUVpD9Hpne22",
        "colab": {
          "base_uri": "https://localhost:8080/",
          "height": 50
        },
        "outputId": "3e9df5d4-3fb0-440d-c16a-07ab68668d4b"
      },
      "source": [
        "#Splitting Train and Test data\n",
        "X_train, X_test, Y_train, Y_test = train_test_split(X,Y, test_size = 0.10, random_state = 42)\n",
        "print(X_train.shape,Y_train.shape)\n",
        "print(X_test.shape,Y_test.shape)"
      ],
      "execution_count": null,
      "outputs": [
        {
          "output_type": "stream",
          "text": [
            "(279, 512) (279, 5)\n",
            "(32, 512) (32, 5)\n"
          ],
          "name": "stdout"
        }
      ]
    },
    {
      "cell_type": "markdown",
      "metadata": {
        "id": "pWFljh-5RvHN"
      },
      "source": [
        "**EVALUATION**"
      ]
    },
    {
      "cell_type": "code",
      "metadata": {
        "id": "q-XqkXuhgs0Q",
        "colab": {
          "base_uri": "https://localhost:8080/",
          "height": 521
        },
        "outputId": "9838d017-81d7-4754-fd1f-7ad366be5b59"
      },
      "source": [
        "import numpy as np\n",
        "\n",
        "\n",
        "Y_train=Y_train.reshape(1,279,5)\n",
        "X_train=X_train.reshape(1,279,512)\n",
        "X_test=X_test.reshape(1,32,512)\n",
        "Y_test=Y_test.reshape(1,32,5)\n",
        "for epoch in range(10):\n",
        "\t# fit model for one epoch on this sequence\n",
        "\tmodel.fit(X_train, Y_train, epochs=1, batch_size=1, verbose=2)\n",
        "\tscore,acc=model.evaluate(X_test,Y_test)\n",
        "\tprint('accuracy:',acc)"
      ],
      "execution_count": null,
      "outputs": [
        {
          "output_type": "stream",
          "text": [
            "1/1 - 0s - loss: 0.1526 - accuracy: 1.0000\n",
            "1/1 [==============================] - 0s 1ms/step - loss: 0.7281 - accuracy: 0.7500\n",
            "accuracy: 0.75\n",
            "1/1 - 0s - loss: 0.1485 - accuracy: 1.0000\n",
            "1/1 [==============================] - 0s 1ms/step - loss: 0.7348 - accuracy: 0.7500\n",
            "accuracy: 0.75\n",
            "1/1 - 0s - loss: 0.1444 - accuracy: 1.0000\n",
            "1/1 [==============================] - 0s 1ms/step - loss: 0.7315 - accuracy: 0.7500\n",
            "accuracy: 0.75\n",
            "1/1 - 0s - loss: 0.1406 - accuracy: 1.0000\n",
            "1/1 [==============================] - 0s 1ms/step - loss: 0.7189 - accuracy: 0.7500\n",
            "accuracy: 0.75\n",
            "1/1 - 0s - loss: 0.1366 - accuracy: 1.0000\n",
            "1/1 [==============================] - 0s 1ms/step - loss: 0.7128 - accuracy: 0.7500\n",
            "accuracy: 0.75\n",
            "1/1 - 0s - loss: 0.1330 - accuracy: 1.0000\n",
            "1/1 [==============================] - 0s 1ms/step - loss: 0.7240 - accuracy: 0.7500\n",
            "accuracy: 0.75\n",
            "1/1 - 0s - loss: 0.1293 - accuracy: 1.0000\n",
            "1/1 [==============================] - 0s 1ms/step - loss: 0.7327 - accuracy: 0.7500\n",
            "accuracy: 0.75\n",
            "1/1 - 0s - loss: 0.1259 - accuracy: 1.0000\n",
            "1/1 [==============================] - 0s 1ms/step - loss: 0.7277 - accuracy: 0.7500\n",
            "accuracy: 0.75\n",
            "1/1 - 0s - loss: 0.1225 - accuracy: 1.0000\n",
            "1/1 [==============================] - 0s 1ms/step - loss: 0.7229 - accuracy: 0.7500\n",
            "accuracy: 0.75\n",
            "1/1 - 0s - loss: 0.1190 - accuracy: 1.0000\n",
            "1/1 [==============================] - 0s 1ms/step - loss: 0.7228 - accuracy: 0.7500\n",
            "accuracy: 0.75\n"
          ],
          "name": "stdout"
        }
      ]
    },
    {
      "cell_type": "code",
      "metadata": {
        "id": "h0y2U75wZsG4"
      },
      "source": [],
      "execution_count": null,
      "outputs": []
    },
    {
      "cell_type": "code",
      "metadata": {
        "id": "0j1dsU3iB6Sy"
      },
      "source": [
        "from numpy import array\n",
        "from keras.models import Sequential\n",
        "from keras.layers import LSTM\n",
        "from keras.layers import Dense\n",
        "from keras.layers import RepeatVector\n",
        "from keras.layers import TimeDistributed\n",
        "from keras.utils import plot_model\n",
        "from keras.layers import Bidirectional\n",
        "Y_train=Y_train.reshape(1,279,5)\n",
        "# doc=array(inemb)\n",
        "# do=doc.reshape(1,100,512)\n",
        "X_train=X_train.reshape(1,279,512)\n",
        "model = tf.keras.Sequential()\n",
        "model.add(tf.keras.layers.Bidirectional(tf.keras.layers.LSTM(150,return_sequences=True), input_shape=(279,512)))\n",
        "#model.add(tf.keras.layers.Flatten())\n",
        "model.add(tf.keras.layers.TimeDistributed(tf.keras.layers.Dense(5, activation='softmax')))\n",
        "model.compile(loss='categorical_crossentropy', optimizer='adam', metrics=['accuracy'])\n",
        "#train LSTM\n",
        "#\n",
        "# for i in range(345):\n",
        "# \tprint('Expected:', y[0, i], 'Predicted', yhat[0, i])\n",
        "# \tprint(label_encoder.inverse_transform(yhat[0,i]))"
      ],
      "execution_count": null,
      "outputs": []
    },
    {
      "cell_type": "code",
      "metadata": {
        "id": "GRl67NqA3zvt"
      },
      "source": [],
      "execution_count": null,
      "outputs": []
    },
    {
      "cell_type": "markdown",
      "metadata": {
        "id": "YElLYKEd35cZ"
      },
      "source": [
        "**PREDICTION AND WRITING TO OUTPUT FILE**"
      ]
    },
    {
      "cell_type": "code",
      "metadata": {
        "id": "h68ZeYOC30Zo",
        "colab": {
          "base_uri": "https://localhost:8080/",
          "height": 1000
        },
        "outputId": "ae2779f2-8e23-468f-b12e-5de1d9637826"
      },
      "source": [
        "import np\n",
        "import numpy\n",
        "#loaded_model.compile(loss='binary_crossentropy', optimizer='adam', metrics=['accuracy'])\n",
        "X=X.reshape(1,50,512)\n",
        "Y=Y.reshape(1,50,5)\n",
        "yhat = model.predict(X, verbose=0)\n",
        "sentd={}\n",
        "for i in range(50):\n",
        "  print('Expected:', Y[0, i], 'Predicted', yhat[0, i])\n",
        "  prob=np.array(yhat[0, i])\n",
        "  labels=np.eye(5,dtype=int)[np.argmax(yhat[0, i],axis=-1)]\n",
        "  inverted = label_encoder.inverse_transform([argmax(labels)])\n",
        "  print(labels)\n",
        "  print(inverted)\n",
        "  lab=numpy.array_str(inverted)\n",
        "  s=numpy.array_str(X[0,i])\n",
        "  sentd[x[i]]=lab\n",
        "val=[' ']\n",
        "\n",
        "f2=open(\"out.txt\",\"w+\")\n",
        "\n",
        "for value in sentd.values():\n",
        "  flag=0\n",
        "  #print('value:',value)\n",
        "  for v in val:\n",
        "    #print('v:',v)\n",
        "    if(value==v):\n",
        "      flag=1\n",
        "  if(flag==0):\n",
        "    #print('hi')\n",
        "    val.append(value)\n",
        "\n",
        "\n",
        "# for j in val:\n",
        "#   print('j=',j)\n",
        "for n in val:\n",
        "  #print(n)\n",
        "  f2.write(n)\n",
        "  f2.write(\":\")\n",
        "  for k in sentd.keys():\n",
        "    if(sentd[k]==n):\n",
        "      f2.write(k)\n",
        "      #print(k)\n",
        "      f2.write(\".\\n\")\n",
        "f2.close()"
      ],
      "execution_count": null,
      "outputs": [
        {
          "output_type": "stream",
          "text": [
            "WARNING:tensorflow:Model was constructed with shape (None, 279, 512) for input Tensor(\"bidirectional_3_input:0\", shape=(None, 279, 512), dtype=float32), but it was called on an input with incompatible shape (None, 50, 512).\n"
          ],
          "name": "stdout"
        },
        {
          "output_type": "stream",
          "text": [
            "WARNING:tensorflow:Model was constructed with shape (None, 279, 512) for input Tensor(\"bidirectional_3_input:0\", shape=(None, 279, 512), dtype=float32), but it was called on an input with incompatible shape (None, 50, 512).\n"
          ],
          "name": "stderr"
        },
        {
          "output_type": "stream",
          "text": [
            "Expected: [0. 0. 0. 1. 0.] Predicted [9.9210489e-01 5.2981963e-04 3.8961248e-04 6.9575268e-03 1.8266657e-05]\n",
            "[1 0 0 0 0]\n",
            "['Diagnosis']\n",
            "Expected: [0. 0. 0. 1. 0.] Predicted [9.9073225e-01 4.8607055e-04 5.9144397e-04 8.1329951e-03 5.7143036e-05]\n",
            "[1 0 0 0 0]\n",
            "['Diagnosis']\n",
            "Expected: [0. 0. 0. 1. 0.] Predicted [2.2233413e-01 2.8683797e-03 1.3029855e-03 7.7342337e-01 7.1100876e-05]\n",
            "[0 0 0 1 0]\n",
            "['Symptoms']\n",
            "Expected: [0. 0. 0. 1. 0.] Predicted [1.52535615e-02 6.28103316e-03 1.21836970e-03 9.77140784e-01\n",
            " 1.06252584e-04]\n",
            "[0 0 0 1 0]\n",
            "['Symptoms']\n",
            "Expected: [0. 0. 0. 1. 0.] Predicted [1.0521208e-02 1.5540931e-02 6.2369872e-03 9.6704829e-01 6.5257674e-04]\n",
            "[0 0 0 1 0]\n",
            "['Symptoms']\n",
            "Expected: [0. 0. 0. 1. 0.] Predicted [0.09701185 0.0330663  0.00308554 0.86521214 0.00162416]\n",
            "[0 0 0 1 0]\n",
            "['Symptoms']\n",
            "Expected: [0. 0. 0. 1. 0.] Predicted [0.06471919 0.8604062  0.00937249 0.04651278 0.0189893 ]\n",
            "[0 1 0 0 0]\n",
            "['History']\n",
            "Expected: [1. 0. 0. 0. 0.] Predicted [8.6661851e-01 1.2935096e-01 6.0526468e-04 2.7724306e-04 3.1478868e-03]\n",
            "[1 0 0 0 0]\n",
            "['Diagnosis']\n",
            "Expected: [1. 0. 0. 0. 0.] Predicted [8.6336386e-01 1.2914202e-01 8.4518245e-04 9.2872588e-06 6.6397111e-03]\n",
            "[1 0 0 0 0]\n",
            "['Diagnosis']\n",
            "Expected: [1. 0. 0. 0. 0.] Predicted [8.0497313e-01 1.8713835e-01 2.8823593e-04 7.2594885e-06 7.5929370e-03]\n",
            "[1 0 0 0 0]\n",
            "['Diagnosis']\n",
            "Expected: [1. 0. 0. 0. 0.] Predicted [3.8976255e-01 1.7195171e-01 5.2919699e-04 7.6303149e-05 4.3768021e-01]\n",
            "[0 0 0 0 1]\n",
            "['Treatment']\n",
            "Expected: [1. 0. 0. 0. 0.] Predicted [3.3378184e-02 5.5893254e-02 4.5798761e-03 2.2176675e-05 9.0612656e-01]\n",
            "[0 0 0 0 1]\n",
            "['Treatment']\n",
            "Expected: [1. 0. 0. 0. 0.] Predicted [8.2124799e-01 2.3873596e-02 1.8968834e-03 1.7713131e-05 1.5296377e-01]\n",
            "[1 0 0 0 0]\n",
            "['Diagnosis']\n",
            "Expected: [1. 0. 0. 0. 0.] Predicted [9.9864811e-01 4.1105325e-04 7.6915649e-06 2.8005266e-04 6.5309001e-04]\n",
            "[1 0 0 0 0]\n",
            "['Diagnosis']\n",
            "Expected: [1. 0. 0. 0. 0.] Predicted [9.9905258e-01 8.3327410e-04 1.4985265e-05 2.5405587e-05 7.3675554e-05]\n",
            "[1 0 0 0 0]\n",
            "['Diagnosis']\n",
            "Expected: [1. 0. 0. 0. 0.] Predicted [9.9959368e-01 6.5283995e-05 3.0693720e-06 3.3002591e-04 7.8846751e-06]\n",
            "[1 0 0 0 0]\n",
            "['Diagnosis']\n",
            "Expected: [1. 0. 0. 0. 0.] Predicted [9.99827087e-01 1.86480702e-05 3.62977335e-05 1.02788625e-04\n",
            " 1.52580715e-05]\n",
            "[1 0 0 0 0]\n",
            "['Diagnosis']\n",
            "Expected: [0. 0. 1. 0. 0.] Predicted [0.37498552 0.00735122 0.5923464  0.00517945 0.02013743]\n",
            "[0 0 1 0 0]\n",
            "['Prevention']\n",
            "Expected: [0. 0. 1. 0. 0.] Predicted [0.00774313 0.00445152 0.9614794  0.01523073 0.01109522]\n",
            "[0 0 1 0 0]\n",
            "['Prevention']\n",
            "Expected: [0. 0. 1. 0. 0.] Predicted [7.1534573e-04 4.5275684e-03 9.8582524e-01 2.9227384e-03 6.0091121e-03]\n",
            "[0 0 1 0 0]\n",
            "['Prevention']\n",
            "Expected: [0. 0. 1. 0. 0.] Predicted [0.00342801 0.3763804  0.5808985  0.02128274 0.01801029]\n",
            "[0 0 1 0 0]\n",
            "['Prevention']\n",
            "Expected: [0. 0. 1. 0. 0.] Predicted [0.00333495 0.26644865 0.36881828 0.19317713 0.168221  ]\n",
            "[0 0 1 0 0]\n",
            "['Prevention']\n",
            "Expected: [0. 0. 1. 0. 0.] Predicted [0.04107302 0.24233666 0.20339747 0.14934956 0.3638433 ]\n",
            "[0 0 0 0 1]\n",
            "['Treatment']\n",
            "Expected: [0. 0. 1. 0. 0.] Predicted [0.0993674  0.08311116 0.32086936 0.04516726 0.45148483]\n",
            "[0 0 0 0 1]\n",
            "['Treatment']\n",
            "Expected: [0. 0. 1. 0. 0.] Predicted [0.2809508  0.01340553 0.02122907 0.00379341 0.68062115]\n",
            "[0 0 0 0 1]\n",
            "['Treatment']\n",
            "Expected: [0. 1. 0. 0. 0.] Predicted [3.1174425e-02 9.6317846e-01 5.9961527e-05 4.1835211e-04 5.1688491e-03]\n",
            "[0 1 0 0 0]\n",
            "['History']\n",
            "Expected: [0. 1. 0. 0. 0.] Predicted [2.79103845e-01 7.04183638e-01 1.11209476e-04 1.38083324e-02\n",
            " 2.79305712e-03]\n",
            "[0 1 0 0 0]\n",
            "['History']\n",
            "Expected: [0. 1. 0. 0. 0.] Predicted [5.7692492e-01 1.6671959e-01 7.7972669e-05 2.2639616e-01 2.9881336e-02]\n",
            "[1 0 0 0 0]\n",
            "['Diagnosis']\n",
            "Expected: [0. 1. 0. 0. 0.] Predicted [0.0220948  0.9452382  0.01335989 0.00869253 0.01061454]\n",
            "[0 1 0 0 0]\n",
            "['History']\n",
            "Expected: [0. 1. 0. 0. 0.] Predicted [0.1024984  0.7523504  0.02471755 0.10871554 0.01171812]\n",
            "[0 1 0 0 0]\n",
            "['History']\n",
            "Expected: [0. 1. 0. 0. 0.] Predicted [0.26902354 0.01572175 0.01508311 0.6974776  0.00269399]\n",
            "[0 0 0 1 0]\n",
            "['Symptoms']\n",
            "Expected: [0. 1. 0. 0. 0.] Predicted [9.9638712e-01 2.3970474e-04 1.2211832e-04 3.0363277e-03 2.1477242e-04]\n",
            "[1 0 0 0 0]\n",
            "['Diagnosis']\n",
            "Expected: [0. 1. 0. 0. 0.] Predicted [9.9847347e-01 2.1542808e-04 1.0698589e-04 7.4074144e-04 4.6331386e-04]\n",
            "[1 0 0 0 0]\n",
            "['Diagnosis']\n",
            "Expected: [0. 1. 0. 0. 0.] Predicted [9.6640235e-01 1.5418591e-03 2.4744897e-04 2.2603678e-02 9.2046540e-03]\n",
            "[1 0 0 0 0]\n",
            "['Diagnosis']\n",
            "Expected: [0. 1. 0. 0. 0.] Predicted [9.8301345e-01 2.5224223e-04 2.7827951e-04 4.6612890e-04 1.5989745e-02]\n",
            "[1 0 0 0 0]\n",
            "['Diagnosis']\n",
            "Expected: [0. 1. 0. 0. 0.] Predicted [7.1399480e-01 1.8881514e-03 4.4847120e-04 1.4268175e-03 2.8224179e-01]\n",
            "[1 0 0 0 0]\n",
            "['Diagnosis']\n",
            "Expected: [0. 1. 0. 0. 0.] Predicted [6.1072439e-01 6.2157069e-03 6.6483847e-04 1.8322980e-04 3.8221177e-01]\n",
            "[1 0 0 0 0]\n",
            "['Diagnosis']\n",
            "Expected: [0. 1. 0. 0. 0.] Predicted [4.6869785e-01 1.9660909e-03 3.1372427e-04 2.6654269e-04 5.2875584e-01]\n",
            "[0 0 0 0 1]\n",
            "['Treatment']\n",
            "Expected: [0. 0. 0. 0. 1.] Predicted [1.71240702e-01 2.31347381e-04 1.74343295e-04 1.48094305e-05\n",
            " 8.28338802e-01]\n",
            "[0 0 0 0 1]\n",
            "['Treatment']\n",
            "Expected: [0. 0. 0. 0. 1.] Predicted [6.1088748e-02 5.5224646e-04 2.7248979e-04 3.5983439e-06 9.3808293e-01]\n",
            "[0 0 0 0 1]\n",
            "['Treatment']\n",
            "Expected: [0. 0. 0. 0. 1.] Predicted [9.7349219e-02 1.1200742e-03 2.6022906e-03 1.1960840e-05 8.9891642e-01]\n",
            "[0 0 0 0 1]\n",
            "['Treatment']\n",
            "Expected: [0. 0. 0. 0. 1.] Predicted [2.2493010e-02 1.6402304e-02 2.0083131e-03 3.2563443e-05 9.5906383e-01]\n",
            "[0 0 0 0 1]\n",
            "['Treatment']\n",
            "Expected: [0. 0. 0. 0. 1.] Predicted [6.6404436e-03 1.9396932e-03 5.2892347e-03 4.3450050e-06 9.8612624e-01]\n",
            "[0 0 0 0 1]\n",
            "['Treatment']\n",
            "Expected: [0. 0. 0. 0. 1.] Predicted [1.33579867e-02 5.42594939e-02 7.83875212e-03 1.10166824e-04\n",
            " 9.24433589e-01]\n",
            "[0 0 0 0 1]\n",
            "['Treatment']\n",
            "Expected: [0. 0. 0. 0. 1.] Predicted [4.9119727e-03 5.5211604e-01 5.6997053e-03 2.2045626e-04 4.3705183e-01]\n",
            "[0 1 0 0 0]\n",
            "['History']\n",
            "Expected: [0. 0. 0. 0. 1.] Predicted [9.7554186e-03 2.5819033e-01 3.7027253e-03 4.2165458e-04 7.2792983e-01]\n",
            "[0 0 0 0 1]\n",
            "['Treatment']\n",
            "Expected: [0. 0. 0. 0. 1.] Predicted [0.00407509 0.04950883 0.00448418 0.00107844 0.9408535 ]\n",
            "[0 0 0 0 1]\n",
            "['Treatment']\n",
            "Expected: [0. 0. 0. 0. 1.] Predicted [0.00139825 0.03549507 0.00332967 0.01138243 0.9483946 ]\n",
            "[0 0 0 0 1]\n",
            "['Treatment']\n",
            "Expected: [0. 0. 0. 0. 1.] Predicted [0.006123   0.00628428 0.01387088 0.10333004 0.8703918 ]\n",
            "[0 0 0 0 1]\n",
            "['Treatment']\n",
            "Expected: [0. 0. 0. 0. 1.] Predicted [0.01053995 0.02473586 0.1495953  0.22326331 0.59186554]\n",
            "[0 0 0 0 1]\n",
            "['Treatment']\n"
          ],
          "name": "stdout"
        }
      ]
    },
    {
      "cell_type": "code",
      "metadata": {
        "id": "0DsZURRA5E_T"
      },
      "source": [],
      "execution_count": null,
      "outputs": []
    },
    {
      "cell_type": "code",
      "metadata": {
        "id": "wx2xrEVQ5tvr",
        "colab": {
          "base_uri": "https://localhost:8080/",
          "height": 168
        },
        "outputId": "eaab7b99-c75f-4fad-e4e2-0fe3e5a06aaa"
      },
      "source": [
        "pip install np"
      ],
      "execution_count": null,
      "outputs": [
        {
          "output_type": "stream",
          "text": [
            "Collecting np\n",
            "  Downloading https://files.pythonhosted.org/packages/40/7d/749666e5a9976dcbc4d16d487bbe571efc6bbf4cdf3f4620c0ccc52b57ef/np-1.0.2.tar.gz\n",
            "Building wheels for collected packages: np\n",
            "  Building wheel for np (setup.py) ... \u001b[?25l\u001b[?25hdone\n",
            "  Created wheel for np: filename=np-1.0.2-cp36-none-any.whl size=13654 sha256=0eaaad49aa47fb9c4553772eb33bb059f8c6433a15bd79dc9de406d724f05f10\n",
            "  Stored in directory: /root/.cache/pip/wheels/2b/df/57/f40bef951382112d9c644b3ec6d713ceb200ea7c15c074de42\n",
            "Successfully built np\n",
            "Installing collected packages: np\n",
            "Successfully installed np-1.0.2\n"
          ],
          "name": "stdout"
        }
      ]
    },
    {
      "cell_type": "markdown",
      "metadata": {
        "id": "KWtwS2_pfoJr"
      },
      "source": [
        "**PREDICTION AND WRITING TO OUTPUT FILE**"
      ]
    },
    {
      "cell_type": "code",
      "metadata": {
        "id": "9U5RieSlYQ2t"
      },
      "source": [],
      "execution_count": null,
      "outputs": []
    },
    {
      "cell_type": "code",
      "metadata": {
        "id": "eJc3OHe2YRq3"
      },
      "source": [
        "\n",
        "import numpy  as np\n",
        "\n",
        "X=X.reshape(1,50,512)\n",
        "Y=Y.reshape(1,50,5)\n",
        "yhat = model.predict(X, verbose=0)\n",
        "sentd={}\n",
        "for i in range(50):\n",
        "  print('Expected:', Y[0, i], 'Predicted', yhat[0, i])\n",
        "  prob=np.array(yhat[0, i])\n",
        "  labels=np.eye(5,dtype=int)[np.argmax(yhat[0, i],axis=-1)]\n",
        "  inverted = label_encoder.inverse_transform([argmax(labels)])\n",
        "  print(labels)\n",
        "  print(inverted)\n",
        "  lab=np.array_str(inverted)\n",
        "  s=np.array_str(X[0,i])\n",
        "  sentd[x[i]]=lab\n",
        "val=[' ']\n",
        "\n",
        "f2=open(\"out.txt\",\"w+\")\n",
        "for value in sentd.values():\n",
        "  flag=0\n",
        "  for v in val:\n",
        "    if(value==v):\n",
        "      flag=1\n",
        "  if(flag==0):\n",
        "    val.append(value)\n",
        "\n",
        "for n in val:\n",
        "  f2.write(n)\n",
        "  f2.write(\":\")\n",
        "  for k in sentd.keys():\n",
        "    if(sentd[k]==n):\n",
        "      f2.write(k)\n",
        "      f2.write(\".\\n\")\n",
        "f2.close()"
      ],
      "execution_count": null,
      "outputs": []
    }
  ]
}